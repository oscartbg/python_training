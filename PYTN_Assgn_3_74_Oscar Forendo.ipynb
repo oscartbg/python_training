{
 "cells": [
  {
   "cell_type": "code",
   "execution_count": 41,
   "metadata": {},
   "outputs": [],
   "source": [
    "import math \n",
    "import statistics \n",
    "import numpy as np \n",
    "import scipy.stats \n",
    "import pandas as pd\n",
    "\n",
    "import statsmodels.api as sm\n",
    "\n",
    "import matplotlib as mpl\n",
    "import matplotlib.pyplot as plt\n",
    "mpl.style.use(['ggplot'])\n",
    "import seaborn as sns\n",
    "\n",
    "from sklearn.linear_model import LogisticRegression\n",
    "from sklearn.neighbors import KNeighborsClassifier\n",
    "\n",
    "# untuk cek akurasi kita gunakan metric\n",
    "from sklearn.metrics import confusion_matrix, classification_report\n",
    "\n",
    "# preprocessing data string jadi numerik\n",
    "from sklearn.preprocessing import LabelEncoder\n",
    "\n",
    "from sklearn.model_selection import train_test_split\n",
    "from sklearn.svm import SVC\n",
    "from sklearn.tree import DecisionTreeClassifier\n",
    "from sklearn.ensemble import RandomForestClassifier\n",
    "from sklearn.naive_bayes import GaussianNB\n",
    "\n",
    "# untuk visualisasi decision tree, kita perlu bantuan bbrp package\n",
    "import sklearn.tree as tree\n",
    "from six import StringIO \n",
    "import pydotplus \n",
    "from IPython.display import Image"
   ]
  },
  {
   "cell_type": "markdown",
   "metadata": {},
   "source": [
    "## Explatory"
   ]
  },
  {
   "cell_type": "code",
   "execution_count": 7,
   "metadata": {},
   "outputs": [
    {
     "name": "stdout",
     "output_type": "stream",
     "text": [
      "<class 'pandas.core.frame.DataFrame'>\n",
      "RangeIndex: 4521 entries, 0 to 4520\n",
      "Data columns (total 17 columns):\n",
      " #   Column     Non-Null Count  Dtype \n",
      "---  ------     --------------  ----- \n",
      " 0   age        4521 non-null   int64 \n",
      " 1   job        4521 non-null   object\n",
      " 2   marital    4521 non-null   object\n",
      " 3   education  4521 non-null   object\n",
      " 4   default    4521 non-null   object\n",
      " 5   balance    4521 non-null   int64 \n",
      " 6   housing    4521 non-null   object\n",
      " 7   loan       4521 non-null   object\n",
      " 8   contact    4521 non-null   object\n",
      " 9   day        4521 non-null   int64 \n",
      " 10  month      4521 non-null   object\n",
      " 11  duration   4521 non-null   int64 \n",
      " 12  campaign   4521 non-null   int64 \n",
      " 13  pdays      4521 non-null   int64 \n",
      " 14  previous   4521 non-null   int64 \n",
      " 15  poutcome   4521 non-null   object\n",
      " 16  y          4521 non-null   object\n",
      "dtypes: int64(7), object(10)\n",
      "memory usage: 600.6+ KB\n"
     ]
    }
   ],
   "source": [
    "#Load Data\n",
    "df =  pd.read_csv('dataset/bank.csv')\n",
    "\n",
    "df.info()"
   ]
  },
  {
   "cell_type": "code",
   "execution_count": 8,
   "metadata": {},
   "outputs": [
    {
     "data": {
      "text/html": [
       "<div>\n",
       "<style scoped>\n",
       "    .dataframe tbody tr th:only-of-type {\n",
       "        vertical-align: middle;\n",
       "    }\n",
       "\n",
       "    .dataframe tbody tr th {\n",
       "        vertical-align: top;\n",
       "    }\n",
       "\n",
       "    .dataframe thead th {\n",
       "        text-align: right;\n",
       "    }\n",
       "</style>\n",
       "<table border=\"1\" class=\"dataframe\">\n",
       "  <thead>\n",
       "    <tr style=\"text-align: right;\">\n",
       "      <th></th>\n",
       "      <th>age</th>\n",
       "      <th>job</th>\n",
       "      <th>marital</th>\n",
       "      <th>education</th>\n",
       "      <th>default</th>\n",
       "      <th>balance</th>\n",
       "      <th>housing</th>\n",
       "      <th>loan</th>\n",
       "      <th>contact</th>\n",
       "      <th>day</th>\n",
       "      <th>month</th>\n",
       "      <th>duration</th>\n",
       "      <th>campaign</th>\n",
       "      <th>pdays</th>\n",
       "      <th>previous</th>\n",
       "      <th>poutcome</th>\n",
       "      <th>y</th>\n",
       "    </tr>\n",
       "  </thead>\n",
       "  <tbody>\n",
       "    <tr>\n",
       "      <th>0</th>\n",
       "      <td>30</td>\n",
       "      <td>unemployed</td>\n",
       "      <td>married</td>\n",
       "      <td>primary</td>\n",
       "      <td>no</td>\n",
       "      <td>1787</td>\n",
       "      <td>no</td>\n",
       "      <td>no</td>\n",
       "      <td>cellular</td>\n",
       "      <td>19</td>\n",
       "      <td>oct</td>\n",
       "      <td>79</td>\n",
       "      <td>1</td>\n",
       "      <td>-1</td>\n",
       "      <td>0</td>\n",
       "      <td>unknown</td>\n",
       "      <td>no</td>\n",
       "    </tr>\n",
       "    <tr>\n",
       "      <th>1</th>\n",
       "      <td>33</td>\n",
       "      <td>services</td>\n",
       "      <td>married</td>\n",
       "      <td>secondary</td>\n",
       "      <td>no</td>\n",
       "      <td>4789</td>\n",
       "      <td>yes</td>\n",
       "      <td>yes</td>\n",
       "      <td>cellular</td>\n",
       "      <td>11</td>\n",
       "      <td>may</td>\n",
       "      <td>220</td>\n",
       "      <td>1</td>\n",
       "      <td>339</td>\n",
       "      <td>4</td>\n",
       "      <td>failure</td>\n",
       "      <td>no</td>\n",
       "    </tr>\n",
       "    <tr>\n",
       "      <th>2</th>\n",
       "      <td>35</td>\n",
       "      <td>management</td>\n",
       "      <td>single</td>\n",
       "      <td>tertiary</td>\n",
       "      <td>no</td>\n",
       "      <td>1350</td>\n",
       "      <td>yes</td>\n",
       "      <td>no</td>\n",
       "      <td>cellular</td>\n",
       "      <td>16</td>\n",
       "      <td>apr</td>\n",
       "      <td>185</td>\n",
       "      <td>1</td>\n",
       "      <td>330</td>\n",
       "      <td>1</td>\n",
       "      <td>failure</td>\n",
       "      <td>no</td>\n",
       "    </tr>\n",
       "    <tr>\n",
       "      <th>3</th>\n",
       "      <td>30</td>\n",
       "      <td>management</td>\n",
       "      <td>married</td>\n",
       "      <td>tertiary</td>\n",
       "      <td>no</td>\n",
       "      <td>1476</td>\n",
       "      <td>yes</td>\n",
       "      <td>yes</td>\n",
       "      <td>unknown</td>\n",
       "      <td>3</td>\n",
       "      <td>jun</td>\n",
       "      <td>199</td>\n",
       "      <td>4</td>\n",
       "      <td>-1</td>\n",
       "      <td>0</td>\n",
       "      <td>unknown</td>\n",
       "      <td>no</td>\n",
       "    </tr>\n",
       "    <tr>\n",
       "      <th>4</th>\n",
       "      <td>59</td>\n",
       "      <td>blue-collar</td>\n",
       "      <td>married</td>\n",
       "      <td>secondary</td>\n",
       "      <td>no</td>\n",
       "      <td>0</td>\n",
       "      <td>yes</td>\n",
       "      <td>no</td>\n",
       "      <td>unknown</td>\n",
       "      <td>5</td>\n",
       "      <td>may</td>\n",
       "      <td>226</td>\n",
       "      <td>1</td>\n",
       "      <td>-1</td>\n",
       "      <td>0</td>\n",
       "      <td>unknown</td>\n",
       "      <td>no</td>\n",
       "    </tr>\n",
       "  </tbody>\n",
       "</table>\n",
       "</div>"
      ],
      "text/plain": [
       "   age          job  marital  education default  balance housing loan  \\\n",
       "0   30   unemployed  married    primary      no     1787      no   no   \n",
       "1   33     services  married  secondary      no     4789     yes  yes   \n",
       "2   35   management   single   tertiary      no     1350     yes   no   \n",
       "3   30   management  married   tertiary      no     1476     yes  yes   \n",
       "4   59  blue-collar  married  secondary      no        0     yes   no   \n",
       "\n",
       "    contact  day month  duration  campaign  pdays  previous poutcome   y  \n",
       "0  cellular   19   oct        79         1     -1         0  unknown  no  \n",
       "1  cellular   11   may       220         1    339         4  failure  no  \n",
       "2  cellular   16   apr       185         1    330         1  failure  no  \n",
       "3   unknown    3   jun       199         4     -1         0  unknown  no  \n",
       "4   unknown    5   may       226         1     -1         0  unknown  no  "
      ]
     },
     "execution_count": 8,
     "metadata": {},
     "output_type": "execute_result"
    }
   ],
   "source": [
    "df.head()"
   ]
  },
  {
   "cell_type": "code",
   "execution_count": 9,
   "metadata": {},
   "outputs": [
    {
     "name": "stdout",
     "output_type": "stream",
     "text": [
      "age \n",
      " [30 33 35 59 36 39 41 43 20 31 40 56 37 25 38 42 44 26 55 67 53 68 32 49\n",
      " 78 23 52 34 61 45 48 57 54 63 51 29 50 27 60 28 21 58 22 46 24 77 75 47\n",
      " 70 65 64 62 66 19 81 83 80 71 72 69 79 73 86 74 76 87 84] \n",
      "\n",
      "job \n",
      " ['unemployed' 'services' 'management' 'blue-collar' 'self-employed'\n",
      " 'technician' 'entrepreneur' 'admin.' 'student' 'housemaid' 'retired'\n",
      " 'unknown'] \n",
      "\n",
      "marital \n",
      " ['married' 'single' 'divorced'] \n",
      "\n",
      "education \n",
      " ['primary' 'secondary' 'tertiary' 'unknown'] \n",
      "\n",
      "default \n",
      " ['no' 'yes'] \n",
      "\n",
      "balance \n",
      " [ 1787  4789  1350 ...  -333 -3313  1137] \n",
      "\n",
      "housing \n",
      " ['no' 'yes'] \n",
      "\n",
      "loan \n",
      " ['no' 'yes'] \n",
      "\n",
      "contact \n",
      " ['cellular' 'unknown' 'telephone'] \n",
      "\n",
      "day \n",
      " [19 11 16  3  5 23 14  6 17 20 13 30 29 27  7 18 12 21 26 22  2  4 15  8\n",
      " 28  9  1 10 31 25 24] \n",
      "\n",
      "month \n",
      " ['oct' 'may' 'apr' 'jun' 'feb' 'aug' 'jan' 'jul' 'nov' 'sep' 'mar' 'dec'] \n",
      "\n",
      "duration \n",
      " [  79  220  185  199  226  141  341  151   57  313  273  113  328  261\n",
      "   89  189  239  114  250  148   96  140  109  125  169  182  247  119\n",
      "  149   74  897   81   40  958  354  150   97  132  765   16  609  106\n",
      "  365  205   11  105   59  425  204  181 1018 1740   98  441  272  159\n",
      "  295  314  579  554  323  227  134  223  155  130  630  164  268  380\n",
      "  154  221   67  367   87  701  652   63  398  224  406   60  521  279\n",
      "  203  201  372  391  165  231  291  233  473  736  337  553  345   65\n",
      "    9  259  371  280  243  435  258    7  317   76  170  386   83   69\n",
      "  564  588  779  281 1877   51   32  176  161  187   24   85  236   54\n",
      "   71  489   39  455   86  190   45  168  194  103  333  102   92  213\n",
      "  289   77  324   84   10   35   82  676   80  549  135  412  101  253\n",
      "  166   18  147   14   61  377  152  382  543  240   48  471  285  301\n",
      "  768 1337  403  139  196  115   17   95  198  654  256  834   20  178\n",
      "  111  186  297  210  112  222  195  123  145  124  216  483  690  344\n",
      "  673  144  246  361  375 1097  180  373  230   58   88  487   29  484\n",
      "  262  644  699   49   64  121  197  331  138  312  120  526  211   62\n",
      "  988  451 1030 1484  445  383  605  330  171  442  772  249  357  271\n",
      "  783  472  395   56  641  429  157  162  799 1370   22  215 1017  298\n",
      "  126    8  555  270  339  342 1434   30  397  620    6  209  419  283\n",
      "  188  267  245 1065  207  456  131   94  567  153   53  234  108  208\n",
      "  597  505  332  212  493  681  287  202   37   72  325 1212  319  514\n",
      "  551  142  293  107  127 1816  200  418  387  156   47  265   31   28\n",
      "  369  854   46  266  321   99  430  264  118  343    5  722  748  523\n",
      "  421   15  502  193  347  468  388 1735  172  117  587  501  282  110\n",
      "  104  378 1407  738   70  904  336  238  585   68 1713  218  661  566\n",
      "  136  160   44  792   73   90  346  192  682  651  405  350   36  389\n",
      " 3025  219  427  533   19  819  278  617   34  668   75  146  356  251\n",
      "  352  184  568  260  447  426  174  284  428  237 1031  700  590   43\n",
      "   27 1181  122  307  770  767  232  986   66  158  306  559  183  631\n",
      " 1282 1199  244   55  290  385  133   91   25  275  632  100   41  446\n",
      "  304  335  276   42  614  557 1663  510 1259  225  404 1015  761  464\n",
      "  206  667  143  717   38  254  882  957  299  167  500  177  457  460\n",
      " 1028  315  381  643  508  128  492  257  241  536  601 1168  277  364\n",
      "  229  402  175  255  820  116  463  603  191 2087  754  303  288  891\n",
      "  558  228  353  296  432 1130  305  274  860  420  756  968  408   13\n",
      "  763  316   50    4   78  286  766  648  688   21  593  407  563   52\n",
      "  803  396  637  945 1178  506  409  327  618  936  329  179  731  670\n",
      "  318  415  137  349  263  671  452  163  586  650  610  747  252  883\n",
      "  684  686 1060  724  424  712  753 1081  376  433  411 1083  757  524\n",
      "  653   93  503  217  475  340  242  530   23  935  773  423  626  578\n",
      "  248  528  785  952 1174  915  937  129 1063  758  574  847 1558  789\n",
      " 1441  322 1504  537  611   26   12  235  796 1126  697  931 1034  362\n",
      "  410  570  633  659  302  727  214  173  635  540 1210  486  646  326\n",
      "  414  716  449  580  399 1029  755  619  606  971  348  594 1275  379\n",
      " 1032  393  808  923  413  541  602  762  360  310  311  638  355  300\n",
      "  417  308  657  434  488 1309 1056  908  401  827  735  691  461  669\n",
      " 1473 1386  294  910  550 1366 1532  955  513 1236  809  482 1164  674\n",
      "  709  436  374  309  363  422  358  640  439  476  480  517  993   33\n",
      "  730  636  750  334  868  351 1689  607  485 1021  732  577  733  788\n",
      "  863 1073  525  696  535  370  465  338  956  546  470  836  544  443\n",
      " 1149  707 1451 1143  477  450  467  292  806  560  759 1183  598  466\n",
      "  431  269  542  562  515 1165  547  780  916  474  509  679 1472  965\n",
      " 1139  504  672  749  454  531  479  384  973  728  656  998  320  615\n",
      "  612  664  394  877 1971 1258  599  655 1994  743  924  929  491  719\n",
      "  565 1529  390 1467 1007  665  990  582  458  775  497  698  702  520\n",
      " 1156  884 1521  359  527  994 1579  437 1225  865  569 1011  814  984\n",
      "  392  595 1448  529 1006  622  494 1022 1044  781 1124  400  516 1516\n",
      "  978  720  495  798  876  875  481  793 1117 1223 1101  744 2769  561\n",
      "  715  639  538 1721 1608  725  519  490  907  680  977  959  693 2029\n",
      " 1009  718  805  623  976  600  469 1010  634 1531  764  532  825  539\n",
      "  816  821 1231  742 2456  721  777  548  830  645  723  746  869 1173\n",
      "  624  518  815  857  921  627  800  366 1088  812  866 1151  873  592\n",
      "  663  576 1476  951 1234 1263  660] \n",
      "\n",
      "campaign \n",
      " [ 1  4  2  5  3  6 18 10  9  7 12 14 13 24 11  8 29 32 16 22 15 30 25 21\n",
      " 17 19 23 20 50 28 31 44] \n",
      "\n",
      "pdays \n",
      " [ -1 339 330 176 147 241 152 105 342 101   5  92  56 170 182 297 196 460\n",
      " 137 367 145 169 207 266 288 168 345 436  90 183 146 335 347 119   7 271\n",
      " 181  88 141 126  61 373 351 242  62  91 308 250 172 265  78  28  79   1\n",
      " 188 167  89 164 462 209 321 254  94 364  96 356 149 363 275 325 341 260\n",
      " 358  87 303  98 327 337 322 102  99 370  84 212  63  81 191 360 332  80\n",
      "  85 247 150 175 382 261 336  58 206 112 199 133 208 253 135 278 140 298\n",
      " 273 124 281 162 323 349 117   2 256 333 116 268 136 198 357 259 353 174\n",
      " 371 205 246  69 315 110 461 184 270 127 187  64 130 346 100 352 808 113\n",
      " 378 292 287 107 293 139 138 193 274  97 103 359 185 674 211 300 334 280\n",
      " 479  95 262 362 225   3 366  60 190 368 122 343 131 365 299 115 316 180\n",
      " 154 313 264 350  73 232 204 143 375 186 344 210 248 177 221 189 104 258\n",
      " 305 171 120 317 178 386 118 404 374 282 179 284 227 291 173 871 238 294\n",
      " 222 435 340 426 239  83 111 415 255 235 244  38 683 329  59 151 192 158\n",
      " 338 388 165 348 197 295 109 484 326 369 397 414 319 474  93 249 272 355\n",
      " 195  82 541 231 153 201 761 114 385 267 161 467  75 106 223 312 148 309\n",
      " 283  86 166 160 450 500 311 123 159 687 224 361  74  76 286  77  57 219\n",
      " 331 804 144 234] \n",
      "\n",
      "previous \n",
      " [ 0  4  1  3  2  5 20  7  6 10  9  8 18 19 12 13 11 14 15 24 17 22 23 25] \n",
      "\n",
      "poutcome \n",
      " ['unknown' 'failure' 'other' 'success'] \n",
      "\n",
      "y \n",
      " ['no' 'yes'] \n",
      "\n"
     ]
    }
   ],
   "source": [
    "for col in df.columns:\n",
    "    print(col, '\\n', df[col].unique(), '\\n')"
   ]
  },
  {
   "cell_type": "code",
   "execution_count": 17,
   "metadata": {},
   "outputs": [
    {
     "name": "stdout",
     "output_type": "stream",
     "text": [
      "job ['admin.' 'blue-collar' 'entrepreneur' 'housemaid' 'management' 'retired'\n",
      " 'self-employed' 'services' 'student' 'technician' 'unemployed' 'unknown']\n",
      "marital ['divorced' 'married' 'single']\n",
      "education ['primary' 'secondary' 'tertiary' 'unknown']\n",
      "default ['no' 'yes']\n",
      "housing ['no' 'yes']\n",
      "loan ['no' 'yes']\n",
      "contact ['cellular' 'telephone' 'unknown']\n",
      "month ['apr' 'aug' 'dec' 'feb' 'jan' 'jul' 'jun' 'mar' 'may' 'nov' 'oct' 'sep']\n",
      "poutcome ['failure' 'other' 'success' 'unknown']\n",
      "y ['no' 'yes']\n"
     ]
    }
   ],
   "source": [
    "#encoding\n",
    "\n",
    "le= LabelEncoder()\n",
    "df_en =pd.DataFrame()\n",
    "\n",
    "for col in df.columns:\n",
    "    if df[col].dtypes == object:\n",
    "        df_en[col]= le.fit_transform(df[col])\n",
    "        print(col, le.classes_)\n",
    "    else:\n",
    "        df_en[col]= df[col]"
   ]
  },
  {
   "cell_type": "code",
   "execution_count": 18,
   "metadata": {},
   "outputs": [],
   "source": [
    "df_feature = df_en.drop(columns=[\"y\"])\n",
    "df_target = df_en[\"y\"]"
   ]
  },
  {
   "cell_type": "code",
   "execution_count": 21,
   "metadata": {},
   "outputs": [
    {
     "name": "stdout",
     "output_type": "stream",
     "text": [
      "(3616, 16) (905, 16)\n"
     ]
    }
   ],
   "source": [
    "#split data jadi training dfan testing data\n",
    "#data testing 20% saja sisanya untuk training\n",
    "x_train, x_test, y_train, y_test = train_test_split(df_feature, df_target, random_state=0, test_size =0.2)\n",
    "\n",
    "print(x_train.shape, x_test.shape)"
   ]
  },
  {
   "cell_type": "markdown",
   "metadata": {},
   "source": [
    "# Logistic Regresion"
   ]
  },
  {
   "cell_type": "code",
   "execution_count": 23,
   "metadata": {},
   "outputs": [],
   "source": [
    "# buat dan latih model\n",
    "\n",
    "model_lr = LogisticRegression(solver='liblinear', random_state=0).fit(x_train, y_train)"
   ]
  },
  {
   "cell_type": "code",
   "execution_count": 25,
   "metadata": {},
   "outputs": [
    {
     "data": {
      "text/plain": [
       "array([[767,  26],\n",
       "       [ 84,  28]], dtype=int64)"
      ]
     },
     "execution_count": 25,
     "metadata": {},
     "output_type": "execute_result"
    }
   ],
   "source": [
    "# evaluasi\n",
    "y_prediksi = model_lr.predict(x_test)\n",
    "\n",
    "# confusion matrix\n",
    "confusion_matrix(y_test, y_prediksi)"
   ]
  },
  {
   "cell_type": "markdown",
   "metadata": {},
   "source": [
    "# KNN"
   ]
  },
  {
   "cell_type": "code",
   "execution_count": 29,
   "metadata": {},
   "outputs": [],
   "source": [
    "# buat model dan latih model\n",
    "model_knn = KNeighborsClassifier(n_neighbors=1).fit(df_feature, df_target)"
   ]
  },
  {
   "cell_type": "code",
   "execution_count": 30,
   "metadata": {},
   "outputs": [
    {
     "name": "stdout",
     "output_type": "stream",
     "text": [
      "              precision    recall  f1-score   support\n",
      "\n",
      "           0       1.00      1.00      1.00      4000\n",
      "           1       1.00      1.00      1.00       521\n",
      "\n",
      "    accuracy                           1.00      4521\n",
      "   macro avg       1.00      1.00      1.00      4521\n",
      "weighted avg       1.00      1.00      1.00      4521\n",
      "\n",
      "[[4000    0]\n",
      " [   0  521]]\n"
     ]
    }
   ],
   "source": [
    "# evaluasi\n",
    "hasil_prediksi = model_knn.predict(df_feature)\n",
    "print(classification_report(df_target, hasil_prediksi))\n",
    "print(confusion_matrix(df_target, hasil_prediksi))"
   ]
  },
  {
   "cell_type": "code",
   "execution_count": 31,
   "metadata": {},
   "outputs": [
    {
     "data": {
      "image/png": "[encoded data removed]",
      "text/plain": [
       "<Figure size 288x288 with 1 Axes>"
      ]
     },
     "metadata": {},
     "output_type": "display_data"
    }
   ],
   "source": [
    "# visualisasi confusion matrix\n",
    "cm = confusion_matrix(df_target, hasil_prediksi)\n",
    "\n",
    "fig, ax = plt.subplots(figsize=(4, 4)) \n",
    "ax.imshow(cm) \n",
    "ax.grid(False) \n",
    "ax.xaxis.set(ticks=(0, 1), ticklabels=('pred Tidak buka deposit', 'pred Buka deposit')) \n",
    "ax.yaxis.set(ticks=(0, 1), ticklabels=('aslinya Tidak buka deposit', 'Aslinya buka deposit')) \n",
    "ax.set_ylim(1.5, -0.5) \n",
    "\n",
    "for i in range(2): \n",
    "    for j in range(2): \n",
    "        ax.text(j, i, cm[i, j], ha='center', va='center', color='black', fontsize=24) \n",
    "\n",
    "plt.title(\"Confusion Matrix\")        \n",
    "plt.show()"
   ]
  },
  {
   "cell_type": "markdown",
   "metadata": {},
   "source": [
    "# SVM"
   ]
  },
  {
   "cell_type": "code",
   "execution_count": 34,
   "metadata": {},
   "outputs": [],
   "source": [
    "# buat dan latih model\n",
    "model_svm = SVC().fit(x_train, y_train)"
   ]
  },
  {
   "cell_type": "code",
   "execution_count": 35,
   "metadata": {},
   "outputs": [
    {
     "name": "stdout",
     "output_type": "stream",
     "text": [
      "              precision    recall  f1-score   support\n",
      "\n",
      "           0       0.88      1.00      0.93       793\n",
      "           1       0.00      0.00      0.00       112\n",
      "\n",
      "    accuracy                           0.88       905\n",
      "   macro avg       0.44      0.50      0.47       905\n",
      "weighted avg       0.77      0.88      0.82       905\n",
      "\n",
      "[[793   0]\n",
      " [112   0]]\n"
     ]
    },
    {
     "name": "stderr",
     "output_type": "stream",
     "text": [
      "C:\\Users\\Oscar Forendo\\AppData\\Local\\Programs\\Python\\Python310\\lib\\site-packages\\sklearn\\metrics\\_classification.py:1318: UndefinedMetricWarning: Precision and F-score are ill-defined and being set to 0.0 in labels with no predicted samples. Use `zero_division` parameter to control this behavior.\n",
      "  _warn_prf(average, modifier, msg_start, len(result))\n",
      "C:\\Users\\Oscar Forendo\\AppData\\Local\\Programs\\Python\\Python310\\lib\\site-packages\\sklearn\\metrics\\_classification.py:1318: UndefinedMetricWarning: Precision and F-score are ill-defined and being set to 0.0 in labels with no predicted samples. Use `zero_division` parameter to control this behavior.\n",
      "  _warn_prf(average, modifier, msg_start, len(result))\n",
      "C:\\Users\\Oscar Forendo\\AppData\\Local\\Programs\\Python\\Python310\\lib\\site-packages\\sklearn\\metrics\\_classification.py:1318: UndefinedMetricWarning: Precision and F-score are ill-defined and being set to 0.0 in labels with no predicted samples. Use `zero_division` parameter to control this behavior.\n",
      "  _warn_prf(average, modifier, msg_start, len(result))\n"
     ]
    }
   ],
   "source": [
    "# evaluasi\n",
    "hasil_prediksi = model_svm.predict(x_test)\n",
    "print(classification_report(y_test, hasil_prediksi))\n",
    "print(confusion_matrix(y_test, hasil_prediksi))"
   ]
  },
  {
   "cell_type": "markdown",
   "metadata": {},
   "source": [
    "# Naive Bayes"
   ]
  },
  {
   "cell_type": "code",
   "execution_count": 47,
   "metadata": {},
   "outputs": [
    {
     "name": "stdout",
     "output_type": "stream",
     "text": [
      "              precision    recall  f1-score   support\n",
      "\n",
      "           0       0.92      0.89      0.91      4000\n",
      "           1       0.34      0.43      0.38       521\n",
      "\n",
      "    accuracy                           0.84      4521\n",
      "   macro avg       0.63      0.66      0.64      4521\n",
      "weighted avg       0.86      0.84      0.85      4521\n",
      "\n",
      "[[3564  436]\n",
      " [ 297  224]]\n"
     ]
    }
   ],
   "source": [
    "# buat dan latih model\n",
    "model_nb = GaussianNB()\n",
    "model_nb.fit(df_feature, df_target)\n",
    "\n",
    "# evaluasi\n",
    "hasil_prediksi = model_nb.predict(df_feature)\n",
    "print(classification_report(df_target, hasil_prediksi))\n",
    "print(confusion_matrix(df_target, hasil_prediksi))"
   ]
  },
  {
   "cell_type": "markdown",
   "metadata": {},
   "source": [
    "# Decision Tree"
   ]
  },
  {
   "cell_type": "code",
   "execution_count": 38,
   "metadata": {},
   "outputs": [
    {
     "name": "stdout",
     "output_type": "stream",
     "text": [
      "              precision    recall  f1-score   support\n",
      "\n",
      "           0       0.93      0.93      0.93       793\n",
      "           1       0.51      0.48      0.50       112\n",
      "\n",
      "    accuracy                           0.88       905\n",
      "   macro avg       0.72      0.71      0.71       905\n",
      "weighted avg       0.88      0.88      0.88       905\n",
      "\n",
      "[[741  52]\n",
      " [ 58  54]]\n"
     ]
    }
   ],
   "source": [
    "# buat dan latih model\n",
    "model_tree = DecisionTreeClassifier().fit(x_train, y_train)\n",
    "\n",
    "# evaluasi\n",
    "hasil_prediksi = model_tree.predict(x_test)\n",
    "print(classification_report(y_test, hasil_prediksi))\n",
    "print(confusion_matrix(y_test, hasil_prediksi))"
   ]
  },
  {
   "cell_type": "code",
   "execution_count": 39,
   "metadata": {},
   "outputs": [
    {
     "data": {
      "text/plain": [
       "Index(['age', 'job', 'marital', 'education', 'default', 'balance', 'housing',\n",
       "       'loan', 'contact', 'day', 'month', 'duration', 'campaign', 'pdays',\n",
       "       'previous', 'poutcome'],\n",
       "      dtype='object')"
      ]
     },
     "execution_count": 39,
     "metadata": {},
     "output_type": "execute_result"
    }
   ],
   "source": [
    "df_feature.columns"
   ]
  },
  {
   "cell_type": "code",
   "execution_count": null,
   "metadata": {},
   "outputs": [],
   "source": [
    "# optional: visualisasi Decision Tree\n",
    "dot_data = StringIO()\n",
    "tree.export_graphviz(model_tree, \n",
    "        out_file=dot_data, \n",
    "        class_names=['no','yes'], # the target names. \n",
    "        feature_names=['age', 'job', 'marital', 'education', 'default', 'balance', 'housing',\n",
    "       'loan', 'contact', 'day', 'month', 'duration', 'campaign', 'pdays',\n",
    "       'previous', 'poutcome'], # the feature names. \n",
    "        filled=True, # Whether to fill in the boxes with colours. \n",
    "        rounded=True, # Whether to round the corners of the boxes. \n",
    "        special_characters=True) \n",
    "graph = pydotplus.graph_from_dot_data(dot_data.getvalue()) \n",
    "Image(graph.create_png())"
   ]
  },
  {
   "cell_type": "markdown",
   "metadata": {},
   "source": [
    "# Random Forest"
   ]
  },
  {
   "cell_type": "code",
   "execution_count": 44,
   "metadata": {},
   "outputs": [
    {
     "name": "stdout",
     "output_type": "stream",
     "text": [
      "              precision    recall  f1-score   support\n",
      "\n",
      "           0       0.88      1.00      0.93       793\n",
      "           1       0.00      0.00      0.00       112\n",
      "\n",
      "    accuracy                           0.88       905\n",
      "   macro avg       0.44      0.50      0.47       905\n",
      "weighted avg       0.77      0.88      0.82       905\n",
      "\n",
      "[[793   0]\n",
      " [112   0]]\n"
     ]
    },
    {
     "name": "stderr",
     "output_type": "stream",
     "text": [
      "C:\\Users\\Oscar Forendo\\AppData\\Local\\Programs\\Python\\Python310\\lib\\site-packages\\sklearn\\metrics\\_classification.py:1318: UndefinedMetricWarning: Precision and F-score are ill-defined and being set to 0.0 in labels with no predicted samples. Use `zero_division` parameter to control this behavior.\n",
      "  _warn_prf(average, modifier, msg_start, len(result))\n",
      "C:\\Users\\Oscar Forendo\\AppData\\Local\\Programs\\Python\\Python310\\lib\\site-packages\\sklearn\\metrics\\_classification.py:1318: UndefinedMetricWarning: Precision and F-score are ill-defined and being set to 0.0 in labels with no predicted samples. Use `zero_division` parameter to control this behavior.\n",
      "  _warn_prf(average, modifier, msg_start, len(result))\n",
      "C:\\Users\\Oscar Forendo\\AppData\\Local\\Programs\\Python\\Python310\\lib\\site-packages\\sklearn\\metrics\\_classification.py:1318: UndefinedMetricWarning: Precision and F-score are ill-defined and being set to 0.0 in labels with no predicted samples. Use `zero_division` parameter to control this behavior.\n",
      "  _warn_prf(average, modifier, msg_start, len(result))\n"
     ]
    }
   ],
   "source": [
    "# buat dan latih model, kemudian evaluasi\n",
    "model_forest = RandomForestClassifier(max_depth=3)\n",
    "model_forest.fit(x_train, y_train)\n",
    "\n",
    "hasil_prediksi = model_forest.predict(x_test)\n",
    "print(classification_report(y_test, hasil_prediksi))\n",
    "print(confusion_matrix(y_test, hasil_prediksi))"
   ]
  },
  {
   "cell_type": "markdown",
   "metadata": {},
   "source": [
    "Kesimpulan : dari semua algoritma yang dicoba, KNN memiliki tingkat precision paling tinggi"
   ]
  }
 ],
 "metadata": {
  "interpreter": {
   "hash": "82cf50798d82ccd576f68f869cf82e434e86e9596c1ecd247e2359a828c37642"
  },
  "kernelspec": {
   "display_name": "Python 3.10.2 64-bit",
   "language": "python",
   "name": "python3"
  },
  "language_info": {
   "codemirror_mode": {
    "name": "ipython",
    "version": 3
   },
   "file_extension": ".py",
   "mimetype": "text/x-python",
   "name": "python",
   "nbconvert_exporter": "python",
   "pygments_lexer": "ipython3",
   "version": "3.10.2"
  },
  "orig_nbformat": 4
 },
 "nbformat": 4,
 "nbformat_minor": 2
}
